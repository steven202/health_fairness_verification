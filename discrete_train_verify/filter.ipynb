{
 "cells": [
  {
   "cell_type": "code",
   "execution_count": 7,
   "metadata": {},
   "outputs": [],
   "source": [
    "import os\n",
    "\n",
    "path = \"run4\"\n",
    "dest = \"filter\"\n",
    "dir_list = os.listdir(path)\n",
    "for file in dir_list:\n",
    "    with open (os.path.join(path,file), \"r\") as fileHandler:\n",
    "        listOfLines = fileHandler.readlines()\n",
    "    for idx, line in enumerate(listOfLines):\n",
    "        if idx<=2 or \"attribute\" in line or \"torch\" in line or \"avg:\" in line or \"std:\" in line or \"====\" in line:\n",
    "            with open(os.path.join(dest,file), 'a+') as the_file:\n",
    "                the_file.write(line)"
   ]
  },
  {
   "cell_type": "code",
   "execution_count": null,
   "metadata": {},
   "outputs": [],
   "source": [
    "import os\n",
    "import pickle\n",
    "\n",
    "from matplotlib import pyplot as plt\n",
    "import numpy as np\n",
    "\n",
    "\n",
    "def set_box_color(bp, color):\n",
    "    plt.setp(bp[\"boxes\"], color=color)\n",
    "    plt.setp(bp[\"whiskers\"], color=color)\n",
    "    plt.setp(bp[\"caps\"], color=color)\n",
    "    plt.setp(bp[\"medians\"], color=color)\n",
    "\n",
    "\n",
    "def find_attr(attributes, keywords):\n",
    "    for key in keywords:\n",
    "        for attr in attributes:\n",
    "            if key in attr[3]:\n",
    "                # print(\"found\", attr[3])\n",
    "                return True\n",
    "\n",
    "    return False\n",
    "\n",
    "\n",
    "counter = 0\n",
    "trans = {\n",
    "    \"AGE\": \"age\",\n",
    "    \"PTGENDER\": \"gender\",\n",
    "    \"PTEDUCAT\": \"education\",\n",
    "    \"PTETHCAT\": \"ethnicity\",\n",
    "    \"PTRACCAT\": \"race\",\n",
    "    \"PTMARRY\": \"marriage\",\n",
    "}\n",
    "modes = [\"disc\"]\n",
    "models = [\"logistic\", \"mlp4\", \"mlp6\"]\n",
    "dataset_splits = [0, 1]\n",
    "for model in models:\n",
    "    for mode in modes:\n",
    "        for dataset_split in dataset_splits:\n",
    "            for measure in [\"FPR\", \"FNR\"]:\n",
    "                save_path = (\n",
    "                    f\"run6/model_{model}_split_{dataset_split}_log_{mode}\"\n",
    "                )\n",
    "                with open(save_path + \".pkl\", \"rb\") as f:\n",
    "                    attrs_metrics = pickle.load(f)\n",
    "                plots = dict()\n",
    "                for attr, metrics in attrs_metrics.items():\n",
    "                    if find_attr(attr, [\"PTEDUCAT\", \"AGE\"]):\n",
    "                        continue\n",
    "                    if len(attr) not in plots:\n",
    "                        plots[len(attr)] = []\n",
    "                    plots[len(attr)].append((attr, metrics))\n",
    "\n",
    "                for leng, group in plots.items():\n",
    "                    attr_tmp, std_acc_tmp, cer_acc_tmp, pgd_acc_tmp = [], [], [], []\n",
    "                    for attr, metrics in group:\n",
    "                        attr_ = str([tmp[3] for tmp in attr])\n",
    "\n",
    "                        for k, v in trans.items():\n",
    "                            attr_ = attr_.replace(k, v)\n",
    "\n",
    "                        attr_tmp.append(attr_.replace(\"[\", \"\").replace(\"]\", \"\").replace(\"'\", \"\"))\n",
    "                        std_acc_tmp.append(metrics[\"clean\"][measure])\n",
    "                        cer_acc_tmp.append(metrics[\"verify\"][measure])\n",
    "                        pgd_acc_tmp.append(metrics[\"pgd\"][measure])\n",
    "                    plt.rcParams.update({'font.size': 22, 'font.family':'serif', })\n",
    "                    fig = plt.figure(figsize=(16, 8))\n",
    "                    labels = attr_tmp\n",
    "                    x = np.arange(len(labels))\n",
    "                    width = 0.25\n",
    "                    width_ = 0.2\n",
    "                    c1 = plt.boxplot(\n",
    "                        std_acc_tmp,\n",
    "                        positions=x - width/2,\n",
    "                        sym=\"\",\n",
    "                        widths=width_,\n",
    "                    )\n",
    "                    c2 = plt.boxplot(\n",
    "                        cer_acc_tmp,\n",
    "                        positions=x+width/2,\n",
    "                        sym=\"\",\n",
    "                        widths=width_,\n",
    "                    )\n",
    "                    # c3 = plt.boxplot(\n",
    "                    #     pgd_acc_tmp,\n",
    "                    #     positions=x + width,\n",
    "                    #     sym=\"\",\n",
    "                    #     widths=width_,\n",
    "                    # )\n",
    "                    colors = [\n",
    "                        \"#D7191C\",\n",
    "                        \"#2C7BB6\",\n",
    "                    ]\n",
    "                    boxes = [c1, c2]\n",
    "                    for c_, color in zip(boxes, colors):\n",
    "                        set_box_color(c_, color)  # colors are from http://colorbrewer2.org/\n",
    "                    for c_, color in zip([\"clean\", \"certified\"], colors):\n",
    "                        plt.plot([], c=color, label=c_)\n",
    "                    plt.legend()\n",
    "                    plt.ylabel(f\"{measure}\")\n",
    "                    plt.xlabel(\"Attribute Combinations\")\n",
    "                    classes = f\"{'NL=0, MCI=1' if dataset_split==0 else 'MCI=0, Dementia=1'}\"\n",
    "                    title = f\"{model}_model, {classes}, {'discrete' if mode=='disc' else 'continuous'}, {leng} combinations, {measure}\"\n",
    "                    plt.title(title)\n",
    "                    ticks = labels\n",
    "                    plt.xticks(range(0, len(ticks)), ticks)\n",
    "                    min = np.min(np.concatenate([std_acc_tmp, cer_acc_tmp]))\n",
    "                    max = np.max(np.concatenate([std_acc_tmp, cer_acc_tmp]))\n",
    "                    min = 0.0 if min - 0.05 <= 0.0 else min\n",
    "                    max = 1.0 if max + 0.05 >= 1.0 else max\n",
    "                    plt.yticks(np.arange(min, max + 0.01, 0.05))\n",
    "                    if len(labels) >=3 and len(labels[1])>=len(\"gender, race\"):\n",
    "                        fig.autofmt_xdate(rotation=27.5)\n",
    "                    # font = {'family' : 'normal',\n",
    "                    #         'weight' : 'bold',\n",
    "                    #         'size'   : 22}\n",
    "                    # matplotlib.rc('font', **font)\n",
    "                    \n",
    "                    plt.savefig(os.path.join(\"plots\", f\"{title.replace(', ','_')}.png\"))\n",
    "                    plt.show()\n",
    "                    print(counter + 1)\n",
    "                    plt.close()\n",
    "                    counter += 1\n"
   ]
  },
  {
   "cell_type": "code",
   "execution_count": 4,
   "metadata": {},
   "outputs": [
    {
     "data": {
      "text/plain": [
       "array([0. , 0.5, 1. ])"
      ]
     },
     "execution_count": 4,
     "metadata": {},
     "output_type": "execute_result"
    }
   ],
   "source": [
    "import numpy as np\n",
    "np.arange(0.0,1.1,0.5)"
   ]
  },
  {
   "cell_type": "code",
   "execution_count": 12,
   "metadata": {},
   "outputs": [
    {
     "data": {
      "text/plain": [
       "0.0"
      ]
     },
     "execution_count": 12,
     "metadata": {},
     "output_type": "execute_result"
    }
   ],
   "source": [
    "np.min(np.concatenate([std_acc_tmp, pgd_acc_tmp, cer_acc_tmp]))"
   ]
  },
  {
   "cell_type": "code",
   "execution_count": 1,
   "metadata": {},
   "outputs": [
    {
     "data": {
      "image/png": "[encoded data removed]",
      "text/plain": [
       "<Figure size 640x480 with 1 Axes>"
      ]
     },
     "metadata": {},
     "output_type": "display_data"
    },
    {
     "data": {
      "image/png": "[encoded data removed]",
      "text/plain": [
       "<Figure size 640x480 with 1 Axes>"
      ]
     },
     "metadata": {},
     "output_type": "display_data"
    }
   ],
   "source": [
    "import matplotlib.pyplot as plt\n",
    "from matplotlib import transforms\n",
    "\n",
    "def rainbow_text(x,y,ls,lc,**kw):\n",
    "    \"\"\"\n",
    "    Take a list of strings ``ls`` and colors ``lc`` and place them next to each\n",
    "    other, with text ls[i] being shown in color lc[i].\n",
    "\n",
    "    This example shows how to do both vertical and horizontal text, and will\n",
    "    pass all keyword arguments to plt.text, so you can set the font size,\n",
    "    family, etc.\n",
    "    \"\"\"\n",
    "    t = plt.gca().transData\n",
    "    fig = plt.gcf()\n",
    "    plt.show()\n",
    "\n",
    "    #horizontal version\n",
    "    for s,c in zip(ls,lc):\n",
    "        text = plt.text(x,y,s+\" \",color=c, transform=t, **kw)\n",
    "        text.draw(fig.canvas.get_renderer())\n",
    "        ex = text.get_window_extent()\n",
    "        t = transforms.offset_copy(text._transform, x=ex.width, units='dots')\n",
    "\n",
    "    #vertical version\n",
    "    for s,c in zip(ls,lc):\n",
    "        text = plt.text(x,y,s+\" \",color=c, transform=t,\n",
    "                rotation=90,va='bottom',ha='center',**kw)\n",
    "        text.draw(fig.canvas.get_renderer())\n",
    "        ex = text.get_window_extent()\n",
    "        t = transforms.offset_copy(text._transform, y=ex.height, units='dots')\n",
    "\n",
    "\n",
    "plt.figure()\n",
    "rainbow_text(0.05,0.05,\"all unicorns poop rainbows ! ! !\".split(), \n",
    "        ['red', 'orange', 'brown', 'green', 'blue', 'purple', 'black'],\n",
    "        size=20)"
   ]
  }
 ],
 "metadata": {
  "kernelspec": {
   "display_name": "Python 3.7.13 ('alpha-beta-crown')",
   "language": "python",
   "name": "python3"
  },
  "language_info": {
   "codemirror_mode": {
    "name": "ipython",
    "version": 3
   },
   "file_extension": ".py",
   "mimetype": "text/x-python",
   "name": "python",
   "nbconvert_exporter": "python",
   "pygments_lexer": "ipython3",
   "version": "3.7.13"
  },
  "orig_nbformat": 4,
  "vscode": {
   "interpreter": {
    "hash": "3c82985518e7296660f286782d05d9777b8fb0036955186910cf902f23e7d6dd"
   }
  }
 },
 "nbformat": 4,
 "nbformat_minor": 2
}
